{
 "cells": [
  {
   "cell_type": "markdown",
   "metadata": {},
   "source": [
    "广义线性模型"
   ]
  },
  {
   "cell_type": "code",
   "execution_count": 1,
   "metadata": {},
   "outputs": [
    {
     "data": {
      "text/plain": [
       "LinearRegression()"
      ]
     },
     "execution_count": 1,
     "metadata": {},
     "output_type": "execute_result"
    }
   ],
   "source": [
    "from sklearn import linear_model\n",
    "\n",
    "reg = linear_model.LinearRegression()\n",
    "reg.fit([[0,0],[1,1],[2,2]], [0,1,2])"
   ]
  },
  {
   "cell_type": "code",
   "execution_count": 3,
   "metadata": {},
   "outputs": [
    {
     "data": {
      "text/plain": [
       "array([1.])"
      ]
     },
     "execution_count": 3,
     "metadata": {},
     "output_type": "execute_result"
    }
   ],
   "source": [
    "reg.predict([[1, 1]])"
   ]
  },
  {
   "cell_type": "code",
   "execution_count": 4,
   "metadata": {},
   "outputs": [],
   "source": [
    "# 这种预处理可以通过 Pipeline 工具进行简化。\n",
    "# 可以创建一个表示简单多项式回归的单个对象，使用方法如下所示:"
   ]
  },
  {
   "cell_type": "code",
   "execution_count": 5,
   "metadata": {},
   "outputs": [
    {
     "data": {
      "text/plain": [
       "array([ 3., -2.,  1., -1.])"
      ]
     },
     "execution_count": 5,
     "metadata": {},
     "output_type": "execute_result"
    }
   ],
   "source": [
    "from sklearn.preprocessing import PolynomialFeatures\n",
    "from sklearn.linear_model import LinearRegression\n",
    "from sklearn.pipeline import Pipeline\n",
    "import numpy as np\n",
    "model = Pipeline([('poly', PolynomialFeatures(degree=3)),\n",
    "                    ('linear', LinearRegression(fit_intercept=False))])\n",
    "# fit to an order-3 polynomial data\n",
    "x = np.arange(5)\n",
    "y = 3 - 2 * x + x ** 2 - x ** 3\n",
    "model = model.fit(x[:, np.newaxis], y)\n",
    "model.named_steps['linear'].coef_"
   ]
  },
  {
   "cell_type": "code",
   "execution_count": null,
   "metadata": {},
   "outputs": [],
   "source": [
    "# 模型评估与验证"
   ]
  },
  {
   "cell_type": "code",
   "execution_count": 11,
   "metadata": {},
   "outputs": [],
   "source": [
    "from sklearn.model_selection import cross_val_score\n",
    "from sklearn import metrics\n",
    "from sklearn.model_selection import ShuffleSplit\n",
    "import numpy as np\n",
    "from sklearn.model_selection import train_test_split\n",
    "from sklearn import datasets\n",
    "from sklearn import svm\n",
    "\n",
    "iris = datasets.load_iris()\n",
    "clf = svm.SVC(kernel='linear', C=1)"
   ]
  },
  {
   "cell_type": "code",
   "execution_count": 13,
   "metadata": {},
   "outputs": [
    {
     "data": {
      "text/plain": [
       "array([0.97777778, 0.97777778, 1.        , 0.95555556, 1.        ])"
      ]
     },
     "execution_count": 13,
     "metadata": {},
     "output_type": "execute_result"
    }
   ],
   "source": [
    "n_samples = iris.data.shape[0]\n",
    "cv = ShuffleSplit(n_splits=5, test_size=0.3, random_state=0)\n",
    "cross_val_score(clf, iris.data, iris.target, cv=cv)"
   ]
  },
  {
   "cell_type": "markdown",
   "metadata": {},
   "source": [
    "# 机器学习】使用 scikit-learn 构建模型的万能模板"
   ]
  },
  {
   "cell_type": "code",
   "execution_count": null,
   "metadata": {},
   "outputs": [],
   "source": [
    "## 1、加载数据集\n",
    "\n",
    "from sklearn.datasets import load_iris\n",
    "data = load_iris()\n",
    "x = data.data\n",
    "y = data.target"
   ]
  },
  {
   "cell_type": "code",
   "execution_count": 17,
   "metadata": {},
   "outputs": [],
   "source": [
    "# 2、数据集拆分\n",
    "\n",
    "from sklearn.model_selection import train_test_split\n",
    "train_x,test_x,train_y,test_y = train_test_split(x,y,test_size=0.1,random_state=0)"
   ]
  },
  {
   "cell_type": "code",
   "execution_count": 20,
   "metadata": {},
   "outputs": [
    {
     "name": "stdout",
     "output_type": "stream",
     "text": [
      "在训练集上的精确度: 0.9630\n",
      "在测试集上的精确度: 1.0000\n"
     ]
    }
   ],
   "source": [
    "#  方法1\n",
    "# 1. 构建SVM分类模型\n",
    "\n",
    "from sklearn.svm import SVC\n",
    "from sklearn.metrics import accuracy_score\n",
    "\n",
    "svm_model = SVC()\n",
    "\n",
    "svm_model.fit(train_x,train_y)\n",
    "\n",
    "pred1 = svm_model.predict(train_x)\n",
    "accuracy1 = accuracy_score(train_y,pred1)\n",
    "print('在训练集上的精确度: %.4f'%accuracy1)\n",
    "\n",
    "pred2 = svm_model.predict(test_x)\n",
    "accuracy2 = accuracy_score(test_y,pred2)\n",
    "print('在测试集上的精确度: %.4f'%accuracy2)"
   ]
  },
  {
   "cell_type": "code",
   "execution_count": 21,
   "metadata": {},
   "outputs": [
    {
     "name": "stdout",
     "output_type": "stream",
     "text": [
      "在训练集上的精确度: 0.9704\n",
      "在测试集上的精确度: 1.0000\n"
     ]
    }
   ],
   "source": [
    "# 2. 构建LR分类模型\n",
    "# LogisticRegression分类器\n",
    "\n",
    "from sklearn.linear_model import LogisticRegression\n",
    "from sklearn.metrics import accuracy_score #评分函数用精确度评估\n",
    "\n",
    "lr_model = LogisticRegression()\n",
    "\n",
    "lr_model.fit(train_x,train_y)\n",
    "\n",
    "pred1 = lr_model.predict(train_x)\n",
    "accuracy1 = accuracy_score(train_y,pred1)\n",
    "print('在训练集上的精确度: %.4f'%accuracy1)\n",
    "\n",
    "pred2 = lr_model.predict(test_x)\n",
    "accuracy2 = accuracy_score(test_y,pred2)\n",
    "print('在测试集上的精确度: %.4f'%accuracy2)"
   ]
  },
  {
   "cell_type": "code",
   "execution_count": null,
   "metadata": {},
   "outputs": [],
   "source": [
    "# 3、构建随机森林分类模型\n",
    "\n"
   ]
  },
  {
   "cell_type": "code",
   "execution_count": 25,
   "metadata": {},
   "outputs": [
    {
     "name": "stdout",
     "output_type": "stream",
     "text": [
      "训练集上的精确度: 0.96 (+/- 0.07)\n",
      "测试集上的平均精确度: 0.73 (+/- 0.27)\n",
      "[0.96296296 0.92592593 1.         1.         0.92592593]\n",
      "[0.66666667 0.66666667 0.66666667 0.66666667 1.        ]\n"
     ]
    }
   ],
   "source": [
    "# 万能模板V2.0版\n",
    "# 加入交叉验证，让算法模型评估更加科学\n",
    "import warnings\n",
    "warnings.filterwarnings('ignore')\n",
    "\n",
    "### svm分类器\n",
    "\n",
    "from sklearn.model_selection import cross_val_score\n",
    "from sklearn.svm import SVC\n",
    "\n",
    "svm_model = SVC()\n",
    "svm_model.fit(train_x,train_y)\n",
    "\n",
    "scores1 = cross_val_score(svm_model,train_x,train_y,cv=5, scoring='accuracy')\n",
    "# 输出精确度的平均值和置信度区间\n",
    "print(\"训练集上的精确度: %0.2f (+/- %0.2f)\" % (scores1.mean(), scores1.std() * 2))\n",
    "\n",
    "scores2 = cross_val_score(svm_model,test_x,test_y,cv=5, scoring='accuracy')\n",
    "# 输出精确度的平均值和置信度区间\n",
    "print(\"测试集上的平均精确度: %0.2f (+/- %0.2f)\" % (scores2.mean(), scores2.std() * 2))\n",
    "\n",
    "\n",
    "print(scores1)\n",
    "print(scores2)"
   ]
  },
  {
   "cell_type": "code",
   "execution_count": 26,
   "metadata": {},
   "outputs": [
    {
     "name": "stdout",
     "output_type": "stream",
     "text": [
      "训练集上的精确度: 0.96 (+/- 0.09)\n",
      "测试集上的平均精确度: 0.80 (+/- 0.33)\n",
      "[0.96296296 0.88888889 1.         1.         0.92592593]\n",
      "[0.66666667 0.66666667 1.         0.66666667 1.        ]\n"
     ]
    }
   ],
   "source": [
    "# LogisticRegression分类器\n",
    "\n",
    "from sklearn.model_selection import cross_val_score\n",
    "from sklearn.linear_model import LogisticRegression\n",
    "\n",
    "lr_model = LogisticRegression()\n",
    "lr_model.fit(train_x,train_y)\n",
    "\n",
    "scores1 = cross_val_score(lr_model,train_x,train_y,cv=5, scoring='accuracy')\n",
    "# 输出精确度的平均值和置信度区间\n",
    "print(\"训练集上的精确度: %0.2f (+/- %0.2f)\" % (scores1.mean(), scores1.std() * 2))\n",
    "\n",
    "scores2 = cross_val_score(lr_model,test_x,test_y,cv=5, scoring='accuracy')\n",
    "# 输出精确度的平均值和置信度区间\n",
    "print(\"测试集上的平均精确度: %0.2f (+/- %0.2f)\" % (scores2.mean(), scores2.std() * 2))\n",
    "\n",
    "print(scores1)\n",
    "print(scores2)"
   ]
  },
  {
   "cell_type": "code",
   "execution_count": 27,
   "metadata": {},
   "outputs": [
    {
     "data": {
      "text/plain": [
       "GridSearchCV(cv=5, estimator=SVC(),\n",
       "             param_grid=[{'C': [1, 10, 100, 100], 'kernel': ['linear']},\n",
       "                         {'C': [1], 'degree': [2, 3], 'kernel': ['poly']},\n",
       "                         {'C': [1, 10, 100, 100],\n",
       "                          'gamma': [1, 0.1, 0.01, 0.001], 'kernel': ['rbf']}],\n",
       "             scoring='accuracy')"
      ]
     },
     "execution_count": 27,
     "metadata": {},
     "output_type": "execute_result"
    }
   ],
   "source": [
    "# 万能模板V3.0版\n",
    "\n",
    "###1、svm分类器\n",
    "from sklearn.model_selection import cross_val_score,GridSearchCV\n",
    "from sklearn.svm import SVC\n",
    "\n",
    "svm_model = SVC()\n",
    "\n",
    "params = [\n",
    "        {'kernel': ['linear'], 'C': [1, 10, 100, 100]},\n",
    "        {'kernel': ['poly'], 'C': [1], 'degree': [2, 3]},\n",
    "        {'kernel': ['rbf'], 'C': [1, 10, 100, 100], 'gamma':[1, 0.1, 0.01, 0.001]}\n",
    "        ]\n",
    "\n",
    "best_model = GridSearchCV(svm_model, param_grid=params,cv = 5,scoring = 'accuracy')\n",
    "best_model.fit(train_x,train_y)"
   ]
  },
  {
   "cell_type": "code",
   "execution_count": 33,
   "metadata": {},
   "outputs": [
    {
     "data": {
      "text/plain": [
       "{'mean_fit_time': array([0.00144401, 0.00103574, 0.0011816 , 0.00133066, 0.00129461,\n",
       "        0.00096045, 0.00279484, 0.003508  , 0.00418305, 0.00489459,\n",
       "        0.00334477, 0.00308371, 0.00304551, 0.00367069, 0.00406837,\n",
       "        0.00264535, 0.00245862, 0.00385575, 0.00361261, 0.00313792,\n",
       "        0.00257778, 0.00266976]),\n",
       " 'std_fit_time': array([4.89114297e-04, 6.65667747e-05, 4.13113480e-04, 4.20740595e-04,\n",
       "        4.48958657e-04, 2.18475817e-04, 7.45882449e-04, 5.34369293e-04,\n",
       "        1.14495094e-03, 6.53738920e-04, 5.27376616e-04, 9.24100251e-04,\n",
       "        5.89283521e-04, 5.52355988e-04, 7.00248526e-04, 5.34485463e-04,\n",
       "        4.94522973e-04, 2.73693663e-04, 7.92121775e-04, 7.06916910e-04,\n",
       "        4.97384632e-04, 3.73392220e-04]),\n",
       " 'mean_score_time': array([0.00062022, 0.00075941, 0.00059814, 0.00028248, 0.00066667,\n",
       "        0.00093184, 0.00143023, 0.00190735, 0.00199533, 0.00281448,\n",
       "        0.0016551 , 0.00160403, 0.00174713, 0.00232286, 0.00182834,\n",
       "        0.00156822, 0.00158453, 0.00237012, 0.00180602, 0.00138998,\n",
       "        0.00145822, 0.00157008]),\n",
       " 'std_score_time': array([5.07419347e-04, 3.84998552e-04, 4.88383461e-04, 4.19806183e-04,\n",
       "        4.22647633e-04, 1.51604119e-04, 4.18487118e-04, 1.28244199e-04,\n",
       "        4.46804305e-06, 4.11431984e-04, 5.35391203e-04, 4.47783185e-04,\n",
       "        4.26381270e-04, 7.40988288e-04, 4.21891511e-04, 4.64591930e-04,\n",
       "        4.47002041e-04, 5.71455366e-04, 4.04974854e-04, 5.10369193e-04,\n",
       "        4.67358055e-04, 4.49733905e-04]),\n",
       " 'param_C': masked_array(data=[1, 10, 100, 100, 1, 1, 1, 1, 1, 1, 10, 10, 10, 10, 100,\n",
       "                    100, 100, 100, 100, 100, 100, 100],\n",
       "              mask=[False, False, False, False, False, False, False, False,\n",
       "                    False, False, False, False, False, False, False, False,\n",
       "                    False, False, False, False, False, False],\n",
       "        fill_value='?',\n",
       "             dtype=object),\n",
       " 'param_kernel': masked_array(data=['linear', 'linear', 'linear', 'linear', 'poly', 'poly',\n",
       "                    'rbf', 'rbf', 'rbf', 'rbf', 'rbf', 'rbf', 'rbf', 'rbf',\n",
       "                    'rbf', 'rbf', 'rbf', 'rbf', 'rbf', 'rbf', 'rbf', 'rbf'],\n",
       "              mask=[False, False, False, False, False, False, False, False,\n",
       "                    False, False, False, False, False, False, False, False,\n",
       "                    False, False, False, False, False, False],\n",
       "        fill_value='?',\n",
       "             dtype=object),\n",
       " 'param_degree': masked_array(data=[--, --, --, --, 2, 3, --, --, --, --, --, --, --, --,\n",
       "                    --, --, --, --, --, --, --, --],\n",
       "              mask=[ True,  True,  True,  True, False, False,  True,  True,\n",
       "                     True,  True,  True,  True,  True,  True,  True,  True,\n",
       "                     True,  True,  True,  True,  True,  True],\n",
       "        fill_value='?',\n",
       "             dtype=object),\n",
       " 'param_gamma': masked_array(data=[--, --, --, --, --, --, 1, 0.1, 0.01, 0.001, 1, 0.1,\n",
       "                    0.01, 0.001, 1, 0.1, 0.01, 0.001, 1, 0.1, 0.01, 0.001],\n",
       "              mask=[ True,  True,  True,  True,  True,  True, False, False,\n",
       "                    False, False, False, False, False, False, False, False,\n",
       "                    False, False, False, False, False, False],\n",
       "        fill_value='?',\n",
       "             dtype=object),\n",
       " 'params': [{'C': 1, 'kernel': 'linear'},\n",
       "  {'C': 10, 'kernel': 'linear'},\n",
       "  {'C': 100, 'kernel': 'linear'},\n",
       "  {'C': 100, 'kernel': 'linear'},\n",
       "  {'C': 1, 'degree': 2, 'kernel': 'poly'},\n",
       "  {'C': 1, 'degree': 3, 'kernel': 'poly'},\n",
       "  {'C': 1, 'gamma': 1, 'kernel': 'rbf'},\n",
       "  {'C': 1, 'gamma': 0.1, 'kernel': 'rbf'},\n",
       "  {'C': 1, 'gamma': 0.01, 'kernel': 'rbf'},\n",
       "  {'C': 1, 'gamma': 0.001, 'kernel': 'rbf'},\n",
       "  {'C': 10, 'gamma': 1, 'kernel': 'rbf'},\n",
       "  {'C': 10, 'gamma': 0.1, 'kernel': 'rbf'},\n",
       "  {'C': 10, 'gamma': 0.01, 'kernel': 'rbf'},\n",
       "  {'C': 10, 'gamma': 0.001, 'kernel': 'rbf'},\n",
       "  {'C': 100, 'gamma': 1, 'kernel': 'rbf'},\n",
       "  {'C': 100, 'gamma': 0.1, 'kernel': 'rbf'},\n",
       "  {'C': 100, 'gamma': 0.01, 'kernel': 'rbf'},\n",
       "  {'C': 100, 'gamma': 0.001, 'kernel': 'rbf'},\n",
       "  {'C': 100, 'gamma': 1, 'kernel': 'rbf'},\n",
       "  {'C': 100, 'gamma': 0.1, 'kernel': 'rbf'},\n",
       "  {'C': 100, 'gamma': 0.01, 'kernel': 'rbf'},\n",
       "  {'C': 100, 'gamma': 0.001, 'kernel': 'rbf'}],\n",
       " 'split0_test_score': array([0.96296296, 0.96296296, 0.92592593, 0.92592593, 0.96296296,\n",
       "        0.96296296, 0.96296296, 0.96296296, 0.96296296, 0.7037037 ,\n",
       "        0.96296296, 0.96296296, 0.96296296, 0.96296296, 0.96296296,\n",
       "        0.92592593, 0.96296296, 0.96296296, 0.96296296, 0.92592593,\n",
       "        0.96296296, 0.96296296]),\n",
       " 'split1_test_score': array([0.88888889, 0.88888889, 0.88888889, 0.88888889, 0.88888889,\n",
       "        0.88888889, 0.88888889, 0.92592593, 0.88888889, 0.7037037 ,\n",
       "        0.88888889, 0.88888889, 0.88888889, 0.88888889, 0.85185185,\n",
       "        0.92592593, 0.88888889, 0.88888889, 0.85185185, 0.92592593,\n",
       "        0.88888889, 0.88888889]),\n",
       " 'split2_test_score': array([1.        , 1.        , 1.        , 1.        , 1.        ,\n",
       "        0.96296296, 1.        , 1.        , 0.96296296, 0.66666667,\n",
       "        1.        , 1.        , 1.        , 0.96296296, 0.96296296,\n",
       "        1.        , 1.        , 1.        , 0.96296296, 1.        ,\n",
       "        1.        , 1.        ]),\n",
       " 'split3_test_score': array([1.        , 1.        , 0.96296296, 0.96296296, 1.        ,\n",
       "        1.        , 1.        , 1.        , 1.        , 0.66666667,\n",
       "        1.        , 1.        , 1.        , 1.        , 1.        ,\n",
       "        0.92592593, 1.        , 1.        , 1.        , 0.92592593,\n",
       "        1.        , 1.        ]),\n",
       " 'split4_test_score': array([0.88888889, 0.88888889, 0.88888889, 0.88888889, 0.88888889,\n",
       "        0.88888889, 0.88888889, 0.88888889, 0.92592593, 0.7037037 ,\n",
       "        0.88888889, 0.88888889, 0.88888889, 0.92592593, 0.88888889,\n",
       "        0.88888889, 0.88888889, 0.88888889, 0.88888889, 0.88888889,\n",
       "        0.88888889, 0.88888889]),\n",
       " 'mean_test_score': array([0.94814815, 0.94814815, 0.93333333, 0.93333333, 0.94814815,\n",
       "        0.94074074, 0.94814815, 0.95555556, 0.94814815, 0.68888889,\n",
       "        0.94814815, 0.94814815, 0.94814815, 0.94814815, 0.93333333,\n",
       "        0.93333333, 0.94814815, 0.94814815, 0.93333333, 0.93333333,\n",
       "        0.94814815, 0.94814815]),\n",
       " 'std_test_score': array([0.05023948, 0.05023948, 0.04319224, 0.04319224, 0.05023948,\n",
       "        0.04444444, 0.05023948, 0.04319224, 0.03777051, 0.01814437,\n",
       "        0.05023948, 0.05023948, 0.05023948, 0.03777051, 0.05443311,\n",
       "        0.03628874, 0.05023948, 0.05023948, 0.05443311, 0.03628874,\n",
       "        0.05023948, 0.05023948]),\n",
       " 'rank_test_score': array([ 2,  2, 18, 18,  2, 15,  2,  1,  2, 22,  2,  2,  2,  2, 18, 16,  2,\n",
       "         2, 18, 16,  2,  2])}"
      ]
     },
     "execution_count": 33,
     "metadata": {},
     "output_type": "execute_result"
    }
   ],
   "source": [
    "best_model.best_score_\n",
    "best_model.best_params_\n",
    "best_model.best_estimator_\n",
    "best_model.cv_results_"
   ]
  },
  {
   "cell_type": "code",
   "execution_count": null,
   "metadata": {},
   "outputs": [],
   "source": []
  }
 ],
 "metadata": {
  "kernelspec": {
   "display_name": "Python 3.9.7 64-bit ('venv': venv)",
   "language": "python",
   "name": "python3"
  },
  "language_info": {
   "codemirror_mode": {
    "name": "ipython",
    "version": 3
   },
   "file_extension": ".py",
   "mimetype": "text/x-python",
   "name": "python",
   "nbconvert_exporter": "python",
   "pygments_lexer": "ipython3",
   "version": "3.9.7"
  },
  "orig_nbformat": 4,
  "vscode": {
   "interpreter": {
    "hash": "e86becfccde02f81b862a716020d59bfa6accdfcdc0263bbcbe20b3832d3969a"
   }
  }
 },
 "nbformat": 4,
 "nbformat_minor": 2
}
